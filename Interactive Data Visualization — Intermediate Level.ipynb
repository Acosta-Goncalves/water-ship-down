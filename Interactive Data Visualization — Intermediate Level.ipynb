{
 "cells": [
  {
   "cell_type": "markdown",
   "metadata": {},
   "source": [
    "# INTERMEDIATE INTERACTIVE DATA VISUALIZATION"
   ]
  },
  {
   "cell_type": "markdown",
   "metadata": {},
   "source": [
    "Now that we have a basic understanding of the Holoviews & Panel libraries thanks to the Basic Interactive Data Visualization, let's build a more complex User Interface to explore the output data from ACCESS models.\n",
    "\n",
    "If you have any questions, suggestions or comments, feel free to send me an email to Alfonso Acosta Gonçalves (a.acostagoncalves@unsw.edu.au)."
   ]
  },
  {
   "cell_type": "markdown",
   "metadata": {},
   "source": [
    "# Imports & Data Loading"
   ]
  },
  {
   "cell_type": "markdown",
   "metadata": {},
   "source": [
    "The code must be run on **Kernel 3-19.10**, which is the only one where panel & holoviews have been installed."
   ]
  },
  {
   "cell_type": "code",
   "execution_count": null,
   "metadata": {
    "hide_input": false
   },
   "outputs": [],
   "source": [
    "%matplotlib inline\n",
    "\n",
    "import calendar\n",
    "import cartopy\n",
    "import cartopy.crs as ccrs\n",
    "import cmocean.cm as cmo\n",
    "import holoviews as hv\n",
    "import matplotlib.pyplot as plt\n",
    "import numpy as np\n",
    "import pandas as pd\n",
    "import panel as pn\n",
    "import xarray as xr\n",
    "\n",
    "# Disable warning messages\n",
    "import warnings\n",
    "warnings.filterwarnings('ignore')\n",
    "\n",
    "from bisect import bisect_left\n",
    "from bokeh.palettes import brewer\n",
    "from matplotlib import colors\n",
    "from palettable.cartocolors.qualitative import Prism_8\n",
    "\n",
    "# Enable panels & the bokeh back-end for Holoviews\n",
    "pn.extension()\n",
    "hv.extension('bokeh')"
   ]
  },
  {
   "cell_type": "markdown",
   "metadata": {},
   "source": [
    "Functions' definitions, explained in the code as they're being used."
   ]
  },
  {
   "cell_type": "code",
   "execution_count": null,
   "metadata": {},
   "outputs": [],
   "source": [
    "def closest_lat(sel_lat):\n",
    "    \"\"\"\n",
    "    Returns closest latitude to sel_lat in yt coordinates (assumes dsm.yt_ocean is sorted)\n",
    "    If two numbers are equally close, return the smallest.\n",
    "    \n",
    "    Parameters:\n",
    "    -----------\n",
    "        sel_lat: float with the selected latitude\n",
    "    \"\"\"\n",
    "    pos = bisect_left(dsm.yt_ocean, sel_lat)\n",
    "    if pos == 0:\n",
    "        return dsm.yt_ocean[0].values\n",
    "    if pos == len(dsm.yt_ocean):\n",
    "        return dsm.yt_ocean[-1].values\n",
    "    before = dsm.yt_ocean[pos - 1].values\n",
    "    after = dsm.yt_ocean[pos].values\n",
    "    if after - sel_lat < sel_lat - before:\n",
    "       return after\n",
    "    else:\n",
    "       return before"
   ]
  },
  {
   "cell_type": "code",
   "execution_count": null,
   "metadata": {},
   "outputs": [],
   "source": [
    "def closest_lon(sel_lon):\n",
    "    \"\"\"\n",
    "    Returns closest longitude to sel_lon in xt coordinates (assumes dsm.xt_ocean is sorted)\n",
    "    If two numbers are equally close, return the smallest.\n",
    "    \n",
    "    Parameters:\n",
    "    -----------\n",
    "        sel_lon: float with the selected longitude\n",
    "    \"\"\"\n",
    "    pos = bisect_left(dsm.xt_ocean, sel_lon)\n",
    "    if pos == 0:\n",
    "        return dsm.xt_ocean[0].values\n",
    "    if pos == len(dsm.xt_ocean):\n",
    "        return dsm.xt_ocean[-1].values\n",
    "    before = dsm.xt_ocean[pos - 1].values\n",
    "    after = dsm.xt_ocean[pos].values\n",
    "    if after - sel_lon < sel_lon - before:\n",
    "       return after\n",
    "    else:\n",
    "       return before"
   ]
  },
  {
   "cell_type": "code",
   "execution_count": null,
   "metadata": {},
   "outputs": [],
   "source": [
    "def set_inactive_tool(plot, element): \n",
    "    \"\"\"\n",
    "    For Bokeh plots, deactivates the Hover tool on initial rendering\n",
    "    \"\"\"\n",
    "    plot.state.toolbar.active_inspect = None "
   ]
  },
  {
   "cell_type": "markdown",
   "metadata": {},
   "source": [
    "Data loading:"
   ]
  },
  {
   "cell_type": "code",
   "execution_count": null,
   "metadata": {},
   "outputs": [],
   "source": [
    "# Open files\n",
    "dsm = xr.open_dataset('/home/561/ag9076/payu/1deg_maru/archive/output030/ocean/ocean_month.nc')\n",
    "dso = xr.open_dataset('/home/561/ag9076/payu/1deg_maru/archive/output030/ocean/ocean.nc')\n",
    "\n",
    "dso_c = xr.open_dataset('/g/data3/hh5/tmp/cosima/access-om2/1deg_jra55_ryf9091_spinup1_B1/output051/ocean/ocean.nc')"
   ]
  },
  {
   "cell_type": "markdown",
   "metadata": {},
   "source": [
    "# 1. BUILDING ON THE BASIC VISUALIZATION"
   ]
  },
  {
   "cell_type": "markdown",
   "metadata": {},
   "source": [
    "Let's say we want to investigate what's happening to ocean temperatures around Antarctica. Taking a look at the data, we can see that temperature is a 4-dimensional data:"
   ]
  },
  {
   "cell_type": "code",
   "execution_count": null,
   "metadata": {},
   "outputs": [],
   "source": [
    "dso.temp"
   ]
  },
  {
   "cell_type": "markdown",
   "metadata": {},
   "source": [
    "Since we want to look at the Southern Ocean, we're just interested in latitudes below 45°S. And, since we only have yearly data for 5 years, let's do an average of the temperature during those 5 years to smooth out the variability."
   ]
  },
  {
   "cell_type": "code",
   "execution_count": null,
   "metadata": {
    "hide_input": false,
    "scrolled": false
   },
   "outputs": [],
   "source": [
    "# S.O. Temperature averaged through time\n",
    "ds_temp = dso.temp.sel(yt_ocean=slice(-78,-45)).mean('time')\n",
    "ds_temp -= 273.15 # To put temperatures into the more useful °C\n",
    "ds_temp"
   ]
  },
  {
   "cell_type": "markdown",
   "metadata": {},
   "source": [
    "Now this time, instead of letting Holoviews do all the work for us, we're going to take control and say which widgets we want, and how do we want the plots to react to them. Let's start by \"rebuilding\" one of the basic interactive plots we already know, so that we can understand better what is happening.\n",
    "\n",
    "Since we got rid of the time dimension, we can use depth to provide some interactivity with the plot, and explore temperature changes with depth."
   ]
  },
  {
   "cell_type": "code",
   "execution_count": null,
   "metadata": {
    "scrolled": false
   },
   "outputs": [],
   "source": [
    "hv.extension('bokeh') \n",
    "\n",
    "cmap_temp = \"cmo.thermal\" # Plot's colormap \n",
    "\n",
    "# ~~~~~ ~~~~~ ~~~~~ ~~~~~ ~~~~~ ^_^ ~~~~~ ~~~~~ ~~~~~ ~~~~~ ~~~~~\n",
    "# WIDGETS\n",
    "\n",
    "# Widget to select the DEPTH. We must manually create a 'panel.widget' to select the depth. \n",
    "# Since the available depth values are not evenly distributed, we'll need to create a \"discrete slider\",\n",
    "# in which we can specify a list with the values that can be selected via the 'options' argument.\n",
    "# 'value' specifies which is the selected value by default, when the plot is loaded.\n",
    "# And since the depth values are extremely long, we can format them to 2 decimal places with a standard\n",
    "# format string.\n",
    "# (see https://panel.pyviz.org/user_guide/Widgets.html for all widgets available)\n",
    "depth_slider_temp = pn.widgets.DiscreteSlider(name='Depth', \n",
    "                                              options=ds_temp.st_ocean.values.tolist(), \n",
    "                                              value=ds_temp.st_ocean.values[0], \n",
    "                                              width=500, \n",
    "                                              formatter='%.2f (m)')\n",
    "\n",
    "# ~~~~~ ~~~~~ ~~~~~ ~~~~~ ~~~~~ ^_^ ~~~~~ ~~~~~ ~~~~~ ~~~~~ ~~~~~\n",
    "# WIDGETS' LINKS\n",
    "\n",
    "# With the widget already created, we now declare a function to update the plot based on the value\n",
    "# selected on the widget. The function must be called every time we move the slider, to create \n",
    "# a new plot based on the selected depth.\n",
    "# To tell the kernel to call the function whenever the widget value changes, we use a decorator:\n",
    "# '@pn.depends' tells the kernel to watch for changes on depth_slider_temp, and pass its value to the\n",
    "# argument 'depth'.\n",
    "\n",
    "# !!! @pn.depends MUST BE DIRECTLY ABOVE THE FUNCTION DEFINITION, no spaces in between, \n",
    "# or the decorator will not work.\n",
    "@pn.depends(depth=depth_slider_temp)\n",
    "def update_plot_temp(depth):\n",
    "    # We create a QuadMesh as before, giving it the data to plot, and which are the X & Y dimensions in the plot\n",
    "    plot = hv.QuadMesh(ds_temp.loc[depth], \n",
    "                       kdims=[\"xt_ocean\", \"yt_ocean\"])\n",
    "    plot.opts(cmap=cmap_temp,\n",
    "              title='Temperature at %.2f(m) depth'% (depth), ylabel='Latitude (°N)', xlabel='Longitude (°E)',\n",
    "              colorbar=True, clabel=\"°C\", \n",
    "              width=900, height=250, bgcolor='Silver', \n",
    "              framewise=True, # Tell Holoviews to adapt the frame (the axes) to each specific plot\n",
    "              tools=['hover'], toolbar=\"above\") # Add bokeh's hover tool, and place the toolbar above the plot\n",
    "    return plot\n",
    "\n",
    "# ~~~~~ ~~~~~ ~~~~~ ~~~~~ ~~~~~ ^_^ ~~~~~ ~~~~~ ~~~~~ ~~~~~ ~~~~~\n",
    "# PLOT\n",
    "\n",
    "# TEMPERATURE ANTARCTIC PLOT\n",
    "plot_temp = hv.DynamicMap(update_plot_temp) # Create a Holoviews's dynamic map from the QuadMesh generated.\n",
    "                                            # The dynamic map will refresh automatically whenever\n",
    "                                            # the update_plot_temp function is called by the kernel.\n",
    "\n",
    "# ~~~~~ ~~~~~ ~~~~~ ~~~~~ ~~~~~ ^_^ ~~~~~ ~~~~~ ~~~~~ ~~~~~ ~~~~~\n",
    "# Build the layout via panel, using Spacers as padding amongst elements. The rest is pretty self-explanatory,\n",
    "# pn.Column creates a column with all the elements passed, while pn.Row builds rows\n",
    "pn.Column(pn.Row(pn.Spacer(width=50), depth_slider_temp),\n",
    "          pn.Spacer(height=5), # Provide some \"air\" between the widget and the plot\n",
    "          plot_temp)"
   ]
  },
  {
   "cell_type": "markdown",
   "metadata": {},
   "source": [
    "Voilà! Our familiar interactive temperature plot is ready for use once again ^_^"
   ]
  },
  {
   "cell_type": "markdown",
   "metadata": {},
   "source": [
    "# 2. BUILDING A CROSS-SECTION"
   ]
  },
  {
   "cell_type": "markdown",
   "metadata": {},
   "source": [
    "Now that we have successfully rebuilt what Holoviews already provided us in much fewer lines, we can use this knowledge to build something more interesting to explore our data.\n",
    "\n",
    "Typically in oceanography, we are interested in looking at cross-sections in the ocean. Wouldn't it be nice to simply select on our plot where do we want to see the cross-section, instead of guessing longitudes, changing code & re-running it? Wouldn't it be even better to just move around and have the cross-section automatically update for us, instead of generating dozens of plots to try to decide which one is actually interesting?\n",
    "\n",
    "This is where Holoviews's **Streams** come into play. A Stream provides a continuous \"stream\" of information based on whatever we tell it to watch over. In our case, we want a stream following the cursor (the mouse) whenever it's over our plot, to tell us in which coordinates we are so we can plot the corresponding cross section."
   ]
  },
  {
   "cell_type": "code",
   "execution_count": null,
   "metadata": {
    "scrolled": false
   },
   "outputs": [],
   "source": [
    "hv.extension('bokeh')\n",
    "\n",
    "cmap_temp = \"cmo.thermal\"\n",
    "initial_lon = -68.5 # Explained below\n",
    "\n",
    "# Stream to follow the pointer over the bird's-eye view plot (and then update the lower plot's cross-section)\n",
    "# Since we are only intersted in the longitude, we'll only track the X position of the mouse\n",
    "posx_temp = hv.streams.PointerX()\n",
    "\n",
    "# ~~~~~ ~~~~~ ~~~~~ ~~~~~ ~~~~~ ^_^ ~~~~~ ~~~~~ ~~~~~ ~~~~~ ~~~~~\n",
    "# WIDGETS\n",
    "\n",
    "# Widget to select the DEPTH\n",
    "depth_slider_temp = pn.widgets.DiscreteSlider(name='Depth', \n",
    "                                              options=ds_temp.st_ocean.values.tolist(), \n",
    "                                              value=ds_temp.st_ocean.values[0], \n",
    "                                              width=500, formatter='%.2f (m)')\n",
    "\n",
    "# ~~~~~ ~~~~~ ~~~~~ ~~~~~ ~~~~~ ^_^ ~~~~~ ~~~~~ ~~~~~ ~~~~~ ~~~~~\n",
    "# WIDGETS's LINKS\n",
    "\n",
    "# Watch for changes on the widget's value to update the plot\n",
    "@pn.depends(depth=depth_slider_temp.param.value)\n",
    "def update_plot_temp(depth):\n",
    "    plot = hv.QuadMesh(ds_temp.loc[depth], \n",
    "                       kdims=[\"xt_ocean\", \"yt_ocean\"])\n",
    "    plot.opts(cmap=cmap_temp,\n",
    "              title='Temperature at %.2f(m) depth'% (depth), ylabel='Latitude (°N)', xlabel='Longitude (°E)',\n",
    "              colorbar=True, clabel=\"°C\", \n",
    "              width=900, height=250, bgcolor='Silver', \n",
    "              framewise=True,\n",
    "              tools=['hover'], toolbar=\"above\")\n",
    "    return plot\n",
    "\n",
    "# To update the cross-plot, we don't need to add the @pn.depends decorator. Why?\n",
    "# Since we have created a Holoviews Stream, and not a Panel Widget, the @pn decorator is completely useless.\n",
    "# Instead, we'll let Holoviews automatically call this function whenever the Stream changes values, a few code lines below.\n",
    "# However, since Holoviews will call this function with the X coordinate of the cursor (provided by PointerX),\n",
    "# we need the function to be ready to accept the argument.\n",
    "def update_cross_temp(x):\n",
    "    # The PointerX stream is extremely precise, so when it calls the function it will not provide a rounded\n",
    "    # longitude value, say 68.5, but instead it will provide something like 68.4897529683. Thus, we declared\n",
    "    # above a function to quickly & efficiently find the closest longitude in our data.\n",
    "    # Further, when the plot loads for the first time, the cursor is still nowhere, and hence x == None.\n",
    "    # To prevent an error, we established an initial longitude by default for the cross section,\n",
    "    # in this case, the Drake Passage.\n",
    "    longitud = closest_lon(x or initial_lon)\n",
    "    \n",
    "    plot = hv.QuadMesh(ds_temp.sel(xt_ocean=longitud), # Find the cross-section selected\n",
    "                       kdims=[\"yt_ocean\", \"st_ocean\"])\n",
    "    plot.opts(cmap=cmap_temp,\n",
    "              title='Temperature cross-section at %.1f°E'% (longitud), ylabel='Depth (m)', xlabel='Latitude (°N)', \n",
    "              colorbar=True, clabel=\"°C\", \n",
    "              width=900, height=450, bgcolor='Silver', \n",
    "              framewise=True, \n",
    "              tools=['hover'], toolbar=\"above\",\n",
    "              invert_yaxis=True) # We must invert the y-axis so the surface (0) is at the top of the plot\n",
    "    \n",
    "    return plot\n",
    "# We can see that update_plot_temp & update_cross_temp have almost identical code. \n",
    "# The only difference is on how the arguments are provided, and on the data used to plot, \n",
    "# but the idea is basically the same.\n",
    "\n",
    "# The \"issue\" we face now is how to know where we are on the above plot when we have moved the cursor out of it.\n",
    "# Which cross-section is this? Where were we looking at? The easiest solution is to draw a simple dashed-line over the plot,\n",
    "# indicating which cross-section is being displayed.\n",
    "# As before, we'll tie the function to the X coordinate provided by the Stream in the code below.\n",
    "def update_vline_temp(x):\n",
    "    line = hv.VLine(x or initial_lon) # A Vertical Line\n",
    "    line.opts(color=\"MediumSeaGreen\", line_dash='dashed')\n",
    "    return line\n",
    "\n",
    "# ~~~~~ ~~~~~ ~~~~~ ~~~~~ ~~~~~ ^_^ ~~~~~ ~~~~~ ~~~~~ ~~~~~ ~~~~~\n",
    "# LONGITUDE LINE\n",
    "# Here is where we tell Holoviews to call update_vline_temp whenever we move the cursor.\n",
    "# We tie the DynamicMap to the values provided by the stream posx_temp.\n",
    "\n",
    "# !!! It is CRUCIAL that the vertical line is THE FIRST one tied to posx_temp. \n",
    "\n",
    "# The Stream will be automatically tied to whichever DynamicMap it is first assigned to,\n",
    "# and it can only track one DynamicMap, so if we assigned it first to the cross-section plot it will be useless. \n",
    "# We need it to track the mouse position on the bird's-eye view plot, not over the cross-section, \n",
    "# so we must tie it to the vertical line that we will display over the above plot.\n",
    "vline_temp = hv.DynamicMap(update_vline_temp, streams=[posx_temp])\n",
    "\n",
    "# TEMPERATURE ANTARCTIC PLOT\n",
    "plot_temp = hv.DynamicMap(update_plot_temp)\n",
    "\n",
    "# TEMPERATURE CROSS-SECTION\n",
    "# Here, we tell Holoviews to call update_cross_temp whenever posx_temp changes.\n",
    "# Since posx_temp has been tied to the vertical line, update_cross_temp will be called whenever\n",
    "# the posx_temp & the vertical line change values, just as we wanted\n",
    "cross_temp = hv.DynamicMap(update_cross_temp, streams=[posx_temp])\n",
    "\n",
    "# ~~~~~ ~~~~~ ~~~~~ ~~~~~ ~~~~~ ^_^ ~~~~~ ~~~~~ ~~~~~ ~~~~~ ~~~~~\n",
    "# Build the layout \n",
    "# The * in plot_temp * vline_temp is the way of telling Holoviews to plot one thing on top of another.\n",
    "# In our case, we're telling Holoviews to plot the vertical line above the bird's-eye view plot.\n",
    "# This is also where, implicitly, we're telling the Stream to track the mouse cursor only on the above plot,\n",
    "# since that's where the vertical line will be displayed (this, to me, seems almost like magic)\n",
    "pn.Column(pn.Row(pn.Spacer(width=50), depth_slider_temp), \n",
    "          pn.Spacer(height=5),\n",
    "          plot_temp * vline_temp,\n",
    "          cross_temp)"
   ]
  },
  {
   "cell_type": "markdown",
   "metadata": {},
   "source": [
    "As before, we can simply change the data, from:\n",
    "\n",
    "`ds_temp = dso.temp.sel(yt_ocean=slice(-78,-45)).mean('time')` \n",
    "\n",
    "to, say, \n",
    "\n",
    "`ds_salt = dso.salt.sel(yt_ocean=slice(-78,-45)).mean('time')` \n",
    "\n",
    "and you have yourself the same setup to explore the salinity in  your data!\n",
    "\n",
    "**Tip**: If you're wondering why not just use beautiful Spanish and call it \"datos\", as before, instead of ds_temp or ds_salt, it's to prevent naming conflicts within the same Jupyter Notebook. \n",
    "\n",
    "If you put several of these interactive plots in the same notebook, and they all share the same names on plots, widgets, etc., they'll start conflicting with one another and stop responding — as you may have noticed already if you've played too much with the notebook. If this happens, just re-run the plot's code and it'll be back on-line. \n",
    "\n",
    "To prevent this, I personally just append a \\_vble name to every object for the plot: ds**_temp**, vline**_temp**, plot**_temp**. When I want to reuse the code, I copy–paste it, and use Jupyter's `Find & Replace` to replace all \\_temp for \\_salt within the cell: an effortless way to have all plots working correctly at the same time."
   ]
  },
  {
   "cell_type": "markdown",
   "metadata": {},
   "source": [
    "# 3. THE FINAL PLOT-TWIST"
   ]
  },
  {
   "cell_type": "markdown",
   "metadata": {},
   "source": [
    "Let's do a final touch to our plots, so they're \"consistent\". We have a vertical longitude line to indicate where is the cross-section we're showing. However, we have no way of tracking how deep we are into the ocean. Why not use our cross-section to show a horizontal line indicating the depth that is being shown on the bird's-eye view?"
   ]
  },
  {
   "cell_type": "code",
   "execution_count": null,
   "metadata": {
    "scrolled": false
   },
   "outputs": [],
   "source": [
    "hv.extension('bokeh')\n",
    "\n",
    "cmap_temp = \"cmo.thermal\"\n",
    "initial_lon = -68.5\n",
    "\n",
    "# Stream to follow the pointer over the upper plot (and then update the lower plot's cross-section)\n",
    "posx_temp = hv.streams.PointerX()\n",
    "\n",
    "# ~~~~~ ~~~~~ ~~~~~ ~~~~~ ~~~~~ ^_^ ~~~~~ ~~~~~ ~~~~~ ~~~~~ ~~~~~\n",
    "# WIDGETS\n",
    "\n",
    "# Widget to select the DEPTH\n",
    "depth_slider_temp = pn.widgets.DiscreteSlider(name='Depth', options=ds_temp.st_ocean.values.tolist(), \n",
    "                                             value=ds_temp.st_ocean.values[0], width=500, formatter='%.2f (m)')\n",
    "\n",
    "\n",
    "# ~~~~~ ~~~~~ ~~~~~ ~~~~~ ~~~~~ ^_^ ~~~~~ ~~~~~ ~~~~~ ~~~~~ ~~~~~\n",
    "# WIDGETS' & STREAMS' LINKS\n",
    "# Watch for changes on the widgets' values to update the plots\n",
    "\n",
    "@pn.depends(depth=depth_slider_temp.param.value)\n",
    "def update_plot_temp(depth):\n",
    "    plot = hv.QuadMesh(ds_temp.loc[depth], \n",
    "                       kdims=[\"xt_ocean\", \"yt_ocean\"])\n",
    "    plot.opts(cmap=cmap_temp,\n",
    "              title='Temperature at %.2f(m) depth'% (depth), ylabel='Latitude (°N)', xlabel='Longitude (°E)',\n",
    "              colorbar=True, clabel=\"°C\", \n",
    "              width=900, height=250, bgcolor='Silver', \n",
    "              framewise=True, \n",
    "              tools=['hover'], toolbar=\"above\",\n",
    "              hooks=[set_inactive_tool]) # The hover tool is very uself, but if you don't want it activated by default\n",
    "                                         # you can just call the set_inactive_tool function defined at the top\n",
    "                                         # and hook it to this plot to deactivate the hover\n",
    "    return plot\n",
    "\n",
    "\n",
    "def update_cross_temp(x):\n",
    "    longitud = closest_lon(x or initial_lon)\n",
    "    \n",
    "    plot = hv.QuadMesh(ds_temp.sel(xt_ocean=longitud), \n",
    "                       kdims=[\"yt_ocean\", \"st_ocean\"])\n",
    "    plot.opts(cmap=cmap_temp,\n",
    "              title='Temperature cross-section at %.1f°E'% (longitud), ylabel='Depth (m)', xlabel='Latitude (°N)', \n",
    "              colorbar=True, clabel=\"°C\", \n",
    "              width=900, height=450, bgcolor='Silver', \n",
    "              framewise=True, \n",
    "              tools=['hover'], toolbar=\"above\",\n",
    "              hooks=[set_inactive_tool],\n",
    "              invert_yaxis=True)\n",
    "    return plot\n",
    "\n",
    "def update_vline_temp(x):\n",
    "    line = hv.VLine(x or initial_lon) # A Vertical Line\n",
    "    line.opts(color=\"MediumSeaGreen\", line_dash='dashed')\n",
    "    return line\n",
    "\n",
    "# The horizontal depth-line will be a mix: as an element, it is exactly like the vertical line; however,\n",
    "# unlike the vertical line, it depends on a widget, not on the value of a stream. \n",
    "# We thus need the @pn.depend decorator to tie the function to the value of the widget,\n",
    "# so it is automatically called when it changes.\n",
    "@pn.depends(depth=depth_slider_temp)\n",
    "def update_hline_temp(depth):\n",
    "    line = hv.HLine(depth)\n",
    "    line.opts(color=\"MediumSeaGreen\", line_dash='dashed')\n",
    "    return line\n",
    "\n",
    "# ~~~~~ ~~~~~ ~~~~~ ~~~~~ ~~~~~ ^_^ ~~~~~ ~~~~~ ~~~~~ ~~~~~ ~~~~~\n",
    "# LONGITUDE LINE\n",
    "# !!! Remember that the vertical line must be the 1st one tied to the Stream\n",
    "vline_temp = hv.DynamicMap(update_vline_temp, streams=[posx_temp])\n",
    "\n",
    "# DEPTH LINE\n",
    "# Again, we don't need to tie the horizontal depth line to a stream, since the function\n",
    "# update_hline_temp will automatically be called when the widget changes value \n",
    "# thanks to the @pn.depends decorator\n",
    "hline_temp = hv.DynamicMap(update_hline_temp)\n",
    "\n",
    "# TEMPERATURE ANTARCTIC PLOT\n",
    "plot_temp = hv.DynamicMap(update_plot_temp)\n",
    "\n",
    "# TEMPERATURE CROSS-SECTION\n",
    "cross_temp = hv.DynamicMap(update_cross_temp, streams=[posx_temp])\n",
    "\n",
    "# ~~~~~ ~~~~~ ~~~~~ ~~~~~ ~~~~~ ^_^ ~~~~~ ~~~~~ ~~~~~ ~~~~~ ~~~~~\n",
    "# Build the layout\n",
    "pn.Column(pn.Row(pn.Spacer(width=50), depth_slider_temp), \n",
    "          pn.Spacer(height=5),\n",
    "          plot_temp * vline_temp,\n",
    "          cross_temp * hline_temp) # As before, the * tells Holoviews to plot hline_temp on top of cross_temp"
   ]
  },
  {
   "cell_type": "markdown",
   "metadata": {},
   "source": [
    "And now, as we change the depth value in the widget, our depth-line automatically shows us in the cross-section plot at which depth we're exploring in the upper plot ^_^"
   ]
  },
  {
   "cell_type": "markdown",
   "metadata": {},
   "source": [
    "# 4. THE WORLD DOESN'T TURN AROUND BOKEH"
   ]
  },
  {
   "cell_type": "markdown",
   "metadata": {},
   "source": [
    "Of course, at this point you may have forgotten that, besides Bokeh, Holoviews can also use the **MatPlotLib** engine. Bokeh is the one providing the zooming, hover, and all that nice, extra functionality, so why chaging to MatPlotLib?\n",
    "\n",
    "Sadly, there are 2 things that Bokeh sucks at: quivers & stereographic plots. Quivers it can sort of do, but they look just dreadful, so better ignore their existence. Stereographics plots, I haven't figured out how to make them work in Bokeh at all.\n",
    "\n",
    "Can we have interactivity without Bokeh? Of course! In fact, we don't even need Holoviews to provide interactivity: Panel can also do it. Let's plot some current vectors to take a look."
   ]
  },
  {
   "cell_type": "code",
   "execution_count": null,
   "metadata": {},
   "outputs": [],
   "source": [
    "# Mean currents in the Southern Ocean, through depth\n",
    "ds_u = dso.u.sel(yu_ocean=slice(-78,-45)).mean('time')\n",
    "ds_v = dso.v.sel(yu_ocean=slice(-78,-45)).mean('time')"
   ]
  },
  {
   "cell_type": "markdown",
   "metadata": {},
   "source": [
    "While we are at it, let's look into some other widgets available (see https://panel.pyviz.org/user_guide/Widgets.html)"
   ]
  },
  {
   "cell_type": "code",
   "execution_count": null,
   "metadata": {},
   "outputs": [],
   "source": [
    "# Bipolar Colormap for the arrows: westward will be blue, eastward red\n",
    "vector_map = colors.ListedColormap(['RoyalBlue', 'Crimson'])\n",
    "\n",
    "# ~~~~~ ~~~~~ ~~~~~ ~~~~~ ~~~~~ ^_^ ~~~~~ ~~~~~ ~~~~~ ~~~~~ ~~~~~\n",
    "# WIDGETS\n",
    "\n",
    "# Widget to select the DEPTH RANGE\n",
    "# In this case, the widget lets us select a range of values, from a min to a max,\n",
    "# not just a single value. This will allow us to average current velocities at different depths,\n",
    "# which can be extremely useful to understand what's happening.\n",
    "depth_range_slider_u = pn.widgets.IntRangeSlider(name='Depth Range', \n",
    "                                                 start=0,\n",
    "                                                 # The end value will be determined by the data itself,\n",
    "                                                 # so we select just the last depth available\n",
    "                                                 end=np.int(np.rint(ds_u.st_ocean.values[-1])),\n",
    "                                                 # The initial range when the widget loads\n",
    "                                                 value=(0, 100), \n",
    "                                                 # Incremental step of the widget (in this case 10 m)\n",
    "                                                 step=10, \n",
    "                                                 width=450)\n",
    "\n",
    "# Widget to select the SCALE for the vectors\n",
    "# This is another kind of slider, in this case allowing Float values.\n",
    "# We'll use it to select the \"scale\" value for matplotlib's quiver function,\n",
    "# so we can make the arrows smaller or larger as needed.\n",
    "scale_slider_u = pn.widgets.FloatSlider(name='Vector Scale', \n",
    "                                        start=0.5, end=10, step=0.5, value=5, \n",
    "                                        width=150)\n",
    "\n",
    "# Widget to select the STEP to sample the vectors.\n",
    "# We can have too many arrows on screen, leading to overplotting and not seeing anything,\n",
    "# or too few and missing information. We can provide an Integer slider to select \n",
    "# how many arrows we want displayed.\n",
    "# A value of 3 will show only every third arrow on the plot, a 5 every fifth, etc.\n",
    "step_slider_u = pn.widgets.IntSlider(name='Sampling Step', \n",
    "                                     start=1, end=6, step=1, value=5, \n",
    "                                     width=150)\n",
    "\n",
    "# ~~~~~ ~~~~~ ~~~~~ ~~~~~ ~~~~~ ^_^ ~~~~~ ~~~~~ ~~~~~ ~~~~~ ~~~~~\n",
    "# WIDGETS's LINKS\n",
    "\n",
    "# As always, we use the @pn.depend decorator to tell the function which widgets to watch.\n",
    "# Whenever ANY of them changes its value, the function will be called to regenerate the plot.\n",
    "@pn.depends(sel_depths=depth_range_slider_u, \n",
    "            sel_scale=scale_slider_u,\n",
    "            sel_step=step_slider_u)  \n",
    "def plot_currents(sel_depths, sel_scale, sel_step):\n",
    "    # The rest of the function's code is just plain matplotlib-code. Nothing to do with panel, holoviews, or any of it.\n",
    "    plt.figure(figsize=(13.5,4))\n",
    "    ax = plt.subplot(1, 1, 1, projection=ccrs.Mercator(central_longitude=-80))\n",
    "    \n",
    "    ax.add_feature(cartopy.feature.OCEAN, zorder=0, color='Azure')\n",
    "    ax.add_feature(cartopy.feature.LAND, zorder=0, color='Khaki')\n",
    "\n",
    "    # Compute mean velocities for the arrows.\n",
    "    # It must be done within the function because we need to:\n",
    "    #  — slice the depths according to the range selected on the widget\n",
    "    #  — sub-select the resulting data according to how many arrows we want displayed\n",
    "    u_vels = ds_u.loc[sel_depths[0]:sel_depths[1]].\\\n",
    "                              mean('st_ocean')[::sel_step, ::sel_step]\n",
    "    v_vels = ds_v.loc[sel_depths[0]:sel_depths[1]].\\\n",
    "                              mean('st_ocean')[::sel_step, ::sel_step]\n",
    "    \n",
    "    # Base the color of the arrows on the direction of the u-velocity (bipolar)\n",
    "    flow_directions = np.sign(u_vels)\n",
    "    \n",
    "    # Plot the quivers, passing only every sel_step X & Y coordinate,\n",
    "    # and the scale selected on the widget.\n",
    "    # Again, this is just matplotlib's quiver code: panel has only intervened to provide values\n",
    "    # during the function call\n",
    "    ax.quiver(ds_u.xu_ocean[::sel_step].values, ds_u.yu_ocean[::sel_step].values,\n",
    "              u_vels.values, v_vels.values, flow_directions, scale=sel_scale, \n",
    "              cmap=vector_map, transform=ccrs.PlateCarree())\n",
    "    \n",
    "    ax.set_title(f\"Currents from {sel_depths[0]:d} to {sel_depths[1]:d} (m) depth\", \n",
    "                 fontsize=20, pad=20)\n",
    "    \n",
    "    # ~~~~~ ~~~~~ ~~~~~ ~~~~~ ~~~~~ ^_^ ~~~~~ ~~~~~ ~~~~~ ~~~~~ ~~~~~\n",
    "    curr_fig=plt.gcf()  \n",
    "    # Since curr_fig.tight_layout() doesn't work for some unholy reason, \n",
    "    # we're forced to manually destroy the margins around our plot before returning it\n",
    "    curr_fig.subplots_adjust(left=0, right=1, top=0.95, bottom=0)\n",
    "    # We need to close the current figure before returning it, to prevent matplotlib from\n",
    "    # displaying it twice\n",
    "    plt.close(curr_fig) \n",
    "    return curr_fig\n",
    "\n",
    "# And THAT'S ALL we need to do to provide interactivity: create some widgets & tie them to a function.\n",
    "# Since panel will automatically call the function to regenerate the plot whenever the \n",
    "# widgets change value, all is left to do is build a nice layout for all our widgets\n",
    "pn.Column(pn.Row(depth_range_slider_u, scale_slider_u, step_slider_u),\n",
    "          plot_currents) # We can simply pass the function to panel, and panel will take control and \n",
    "                         # call it when necessary"
   ]
  },
  {
   "cell_type": "markdown",
   "metadata": {},
   "source": [
    "We can play around as much as we want to investigate our currents, at whichever depth & resolution we want. We've used the same concepts we learned with Bokeh, but now we're using the capabilities of Matplotlib and the interactivity provided by Panel."
   ]
  },
  {
   "cell_type": "markdown",
   "metadata": {},
   "source": [
    "# 5. WHAT ABOUT THOSE NICE TIME-SERIES PLOTS?"
   ]
  },
  {
   "cell_type": "markdown",
   "metadata": {},
   "source": [
    "Now that we know how to plot things one on top of another, you might have remembered the time-series plot we did on the basic level and wondered if you could use this technique to take a look at the time-series of 2 (or more!) experiments at the same time. The answer is: of course. Let's build a function to do just that automatically for us."
   ]
  },
  {
   "cell_type": "code",
   "execution_count": null,
   "metadata": {},
   "outputs": [],
   "source": [
    "def compara(ctrl_data, exp_data, val_dim):\n",
    "    \"\"\"\n",
    "    Creates an interactive plot for comparison, overlaying the data of the control run & the experiment \n",
    "    on the same plot\n",
    "        \n",
    "    Parameters:\n",
    "    -----------\n",
    "        ctrl_data: dataset with the control data\n",
    "        exp_data: dataset with the model run data \n",
    "        val_dim: string with the name of the data_var(iable) to plot\n",
    "    \"\"\"\n",
    "        \n",
    "    hv.extension('bokeh')\n",
    "\n",
    "    # Control run\n",
    "    hv_ds_c = hv.Dataset(ctrl_data)\n",
    "    wi_c = hv_ds_c.to(hv.Curve, kdims=['time'], vdims=[val_dim], label=\"Control\", dynamic=True)\n",
    "    wi_c.opts(framewise=True)\n",
    "              \n",
    "    # Experiment run\n",
    "    hv_ds = hv.Dataset(exp_data)\n",
    "    wi = hv_ds.to(hv.Curve, kdims=['time'], vdims=[val_dim], label=\"Experiment\", dynamic=True)\n",
    "    wi.opts(framewise=True)\n",
    "    \n",
    "    # Build the layout\n",
    "    layout = wi * wi_c\n",
    "    # Remove the common title of both plots, since the slider (or widget) already is displaying the same information\n",
    "    layout.opts(title='', width=600, height=600, padding=(0, 0.05), \n",
    "                fontsize={'labels':12, 'yticks':12, 'title':12})\n",
    "    # Centre the widget on top of both plots\n",
    "    hv_panel = pn.panel(layout, center=True, widget_location='top')\n",
    "    # Make the widget wider, for more precise control\n",
    "    hv_panel[1][0][1][0].width = 500\n",
    "    # Show the result\n",
    "    return hv_panel"
   ]
  },
  {
   "cell_type": "markdown",
   "metadata": {},
   "source": [
    "Easy! Nothing new on all the code we've written: we've just put a few ideas together. Now, let's take a look at what happens:"
   ]
  },
  {
   "cell_type": "code",
   "execution_count": null,
   "metadata": {},
   "outputs": [],
   "source": [
    "# Control run data\n",
    "mean_temps_c = (dso_c.temp.mean(['yt_ocean', 'xt_ocean'])) - 273.15\n",
    "# Experiment run data\n",
    "mean_temps = (dso.temp.mean(['yt_ocean', 'xt_ocean'])) - 273.15\n",
    "\n",
    "compara(ctrl_data=mean_temps_c, exp_data=mean_temps, val_dim=\"temp\")"
   ]
  },
  {
   "cell_type": "markdown",
   "metadata": {},
   "source": [
    "# 6. CONCLUSION"
   ]
  },
  {
   "cell_type": "markdown",
   "metadata": {},
   "source": [
    "The possibilities for data exploration are now endless thanks to the wide range of widgets available; our ingenuity the only limit! We'll look into some \"wilder\" ideas on the final tutorial: the Advanced level."
   ]
  }
 ],
 "metadata": {
  "hide_input": false,
  "kernelspec": {
   "display_name": "Python 3",
   "language": "python",
   "name": "python3"
  },
  "language_info": {
   "codemirror_mode": {
    "name": "ipython",
    "version": 3
   },
   "file_extension": ".py",
   "mimetype": "text/x-python",
   "name": "python",
   "nbconvert_exporter": "python",
   "pygments_lexer": "ipython3",
   "version": "3.7.4"
  },
  "varInspector": {
   "cols": {
    "lenName": 16,
    "lenType": 16,
    "lenVar": 40
   },
   "kernels_config": {
    "python": {
     "delete_cmd_postfix": "",
     "delete_cmd_prefix": "del ",
     "library": "var_list.py",
     "varRefreshCmd": "print(var_dic_list())"
    },
    "r": {
     "delete_cmd_postfix": ") ",
     "delete_cmd_prefix": "rm(",
     "library": "var_list.r",
     "varRefreshCmd": "cat(var_dic_list()) "
    }
   },
   "position": {
    "height": "736.8px",
    "left": "952.6px",
    "right": "20px",
    "top": "45px",
    "width": "547.8px"
   },
   "types_to_exclude": [
    "module",
    "function",
    "builtin_function_or_method",
    "instance",
    "_Feature"
   ],
   "window_display": false
  }
 },
 "nbformat": 4,
 "nbformat_minor": 2
}
