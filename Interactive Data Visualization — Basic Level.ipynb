{
 "cells": [
  {
   "cell_type": "markdown",
   "metadata": {},
   "source": [
    "# BASIC INTERACTIVE DATA VISUALIZATION"
   ]
  },
  {
   "cell_type": "markdown",
   "metadata": {},
   "source": [
    "The following code can be used & adapted to quickly generate interactive plots and explore output data from ACCESS-OM2, as well as other climate models. \n",
    "\n",
    "We'll use the **Panel** & **HoloViews** libraries, which provide automatic tools for a faster, more intuitive understanding of the outputs.\n",
    "\n",
    "If you run into trouble, or for any questions, suggestions or comments, just send me an email to Alfonso Acosta Gonçalves (a.acostagoncalves@unsw.edu.au)."
   ]
  },
  {
   "cell_type": "markdown",
   "metadata": {},
   "source": [
    "# Imports & Data Loading"
   ]
  },
  {
   "cell_type": "markdown",
   "metadata": {},
   "source": [
    "The code must be run on **Kernel 3-19.10**, which is the only one where panel & holoviews have been installed."
   ]
  },
  {
   "cell_type": "code",
   "execution_count": null,
   "metadata": {
    "hide_input": false
   },
   "outputs": [],
   "source": [
    "import cmocean.cm as cmo\n",
    "import holoviews as hv\n",
    "import numpy as np\n",
    "import pandas as pd\n",
    "import panel as pn\n",
    "import xarray as xr\n",
    "\n",
    "# Disable warning messages\n",
    "import warnings\n",
    "warnings.filterwarnings('ignore')\n",
    "\n",
    "# Enable panels & the bokeh back-end for Holoviews\n",
    "pn.extension()\n",
    "hv.extension('bokeh')"
   ]
  },
  {
   "cell_type": "markdown",
   "metadata": {},
   "source": [
    "Data loading:"
   ]
  },
  {
   "cell_type": "code",
   "execution_count": null,
   "metadata": {},
   "outputs": [],
   "source": [
    "# Open example output files\n",
    "# Monthly data\n",
    "dsm = xr.open_dataset('/g/data3/hh5/tmp/cosima/access-om2/1deg_jra55_ryf9091_spinup1_B1/output051/ocean/ocean_month.nc')\n",
    "# Yearly data\n",
    "dso = xr.open_dataset('/g/data3/hh5/tmp/cosima/access-om2/1deg_jra55_ryf9091_spinup1_B1/output051/ocean/ocean.nc')"
   ]
  },
  {
   "cell_type": "markdown",
   "metadata": {},
   "source": [
    "# 1. BASIC INTERACTIVE VISUALIZATION"
   ]
  },
  {
   "cell_type": "markdown",
   "metadata": {},
   "source": [
    "The easiest way to reuse the code is to define a function that receives the data we want to show in the interactive plot, along with some visualization options. That way, we can simply change the function call to show whichever variable we want. But first, let's just build a basic interactive plot directly on the code for better clarity, to investigate how the mixed-layer depth varies as the months pass by.\n",
    "\n",
    "(We'll also use this opportunity to learn some Spanish —the language of the future!— to avoid using python keywords in the code)."
   ]
  },
  {
   "cell_type": "code",
   "execution_count": null,
   "metadata": {},
   "outputs": [],
   "source": [
    "# Mixed-Layer Depth through time\n",
    "datos = dsm.mld # DataArray from the output DataSet containing all the information to plot\n",
    "valor = \"mld\"   # Name of the DataArray's value that will be used as the color-coded value\n",
    "                # in the plots. In this case, since we're plotting dsm.mld, \"mld\" is \n",
    "                # the name of the value to plot. This can be seen when looking at dsm.mld: \n",
    "                # (xarray.DataArray 'mld' (time: 60, yt_ocean: 300, xt_ocean: 360)...\n",
    "                # It could've been \"temp\", or \"salt\", or...\n",
    "mapa = cmo.deep_r # Colormap to be used in the plot\n",
    "titulo = \"MLD through time\" # Title of the plot"
   ]
  },
  {
   "cell_type": "markdown",
   "metadata": {},
   "source": [
    "The **hv.extension** instruction below only needs to be run once, hence why it was put at the beginning of the script, following the imports. It's just added here again to remind the user that a holoviews \"back-end\" must be specified (it can be either 'bokeh' or 'matplotlib'); otherwise no plots will be shown, but there will be _no error message_ either (!). Besides, if you generate some plots with the Matplotlib back-end, you'll need to change it back to Bokeh when required."
   ]
  },
  {
   "cell_type": "code",
   "execution_count": null,
   "metadata": {},
   "outputs": [],
   "source": [
    "hv.extension('bokeh')\n",
    "\n",
    "# Transform our DataArray into a HoloViews's Dataset, so Holoviews knows how to manipulate it\n",
    "hv_ds = hv.Dataset(datos)\n",
    "\n",
    "# Transform the Dataset into a \"Quadmesh\", which is the standard mesh-grid plot.\n",
    "# kdims specifies which DataArray dimensions to use as X & Y coordinates in the plot.\n",
    "# vdims specifies which is the name of the variable we are plotting.\n",
    "# dynamic specifies that only the data necessary for the current plot should be loaded on memory.\n",
    "# That way, when exploring large datasets that cannot fit into memory, holoviews can instead\n",
    "# just load enough data to show the current plot without overloading the system.\n",
    "qm = hv_ds.to(hv.QuadMesh, kdims=[\"xt_ocean\", \"yt_ocean\"], vdims=[valor], dynamic=True)\n",
    "# Standard plot options, plus which bokeh tools we want to use. In our case,\n",
    "# 'hover' is one of the most useful ones since it will display precise data at the mouse's location.\n",
    "# Bokeh provides otherwise standard tools for moving around the plot, zooming, saving the plot,\n",
    "# and resetting the plot to its original state.\n",
    "qm.opts(title=titulo, cmap=mapa, width=900, height=500, colorbar=True, \n",
    "        tools=['hover'])\n",
    "\n",
    "# Since the DataArray we're using has 3 dimensions (time, xt_ocean, yt_ocean) and we have only\n",
    "# used the last 2 dimensions, Holoviews automatically provides a \"widget\" to interact or manipulate\n",
    "# ALL MISSING DIMENSIONS. In our case, it will generate a slider so we can move through time,\n",
    "# updating the plot dynamically.\n",
    "# We then create a panel, specifying that we want the widget on top of the plot & centred.\n",
    "hv_panel = pn.panel(qm, widget_location='top', center=True)\n",
    "# The following line is not necessary, it just prints the panel's data structure so we understand \n",
    "# how we can get a handler on the widget to change its width and make it larger.\n",
    "# It can be commented to avoid printing the panel structure.\n",
    "hv_panel.pprint()\n",
    "# Based on the hv_panel structure printed on screen, we access the slider to change its width.\n",
    "hv_panel[1][0][1][0].width = 500\n",
    "# Show the panel on screen.\n",
    "hv_panel"
   ]
  },
  {
   "cell_type": "markdown",
   "metadata": {},
   "source": [
    "Notice that the **colorbar from the plot changes its values** to accommodate the min & max values of each \"current\" plot. This is caused by `dynamic=True`, which only loads into memory the data necessary for the current plot, and hence cannot know which will be the future min & max values.\n",
    "\n",
    "If desired, the values can be manually set to remain constant with: \n",
    "\n",
    "`qm = qm.redim.range(mld=(min_range, max_range))`\n",
    "\n",
    "\n",
    "And, to avoid having to replace _'mld'_ in the code when visualizing other variables, we can just use the eval function to dynamically build the expression for us: \n",
    "\n",
    "`qm = eval(\"qm.redim.range(\" + valor + \"=(min_range, max_range))\")`\n",
    "\n",
    "We'll use this new information to build a function to display our interactive plots."
   ]
  },
  {
   "cell_type": "markdown",
   "metadata": {},
   "source": [
    "# 2. FUNCTION-BASED VISUALIZATION"
   ]
  },
  {
   "cell_type": "code",
   "execution_count": null,
   "metadata": {
    "scrolled": false
   },
   "outputs": [],
   "source": [
    "def holo_plot(datos, valor, mapa, titulo, min_range=None, max_range=None):\n",
    "    \"\"\"\n",
    "    Returns a Holoviews Panel for interactive data visualization.\n",
    "    \n",
    "    Parameters:\n",
    "    -----------\n",
    "        datos: DataArray with the data to plot\n",
    "        valor: String with the name of the data value to plot\n",
    "        mapa: String with the name of the colormap to use on the plot\n",
    "        titulo: String with the title of the plot\n",
    "        min_range: Float or Int with the minimum value of the colorbar range\n",
    "        max_range: Float or Int with the maximum value of the colorbar range\n",
    "    \"\"\"\n",
    "    \n",
    "    hv.extension('bokeh')\n",
    "\n",
    "    # Transform our DataArray into a HoloViews's Dataset, so Holoviews knows how to manipulate it\n",
    "    hv_ds = hv.Dataset(datos)\n",
    "    \n",
    "    # Transform the Dataset into a \"Quadmesh\", which is the standard mesh-grid plot.\n",
    "    # kdims specifies which dimensions to use as X & Y coordinates in the plot.\n",
    "    # vdims specifies which is the name of the variable we are plotting.\n",
    "    # dynamic specifies that only the data necessary for the current plot should be loaded on memory.\n",
    "    # That way, when exploring large datasets that cannot fit into memory, holoviews can instead\n",
    "    # just load enough data to show the current plot without overloading the system.\n",
    "    qm = hv_ds.to(hv.QuadMesh, kdims=[\"xt_ocean\", \"yt_ocean\"],  vdims=[valor], dynamic=True)\n",
    "    # Standard plot options, plus which bokeh tools we want to use. In our case, 'hover' is one\n",
    "    # of the most useful ones since it will display precise data at the mouse's location.\n",
    "    # Bokeh provides otherwise standard tools for moving around the plot, zooming, saving the plot,\n",
    "    # and resetting the plot to its original state.\n",
    "    qm.opts(title=titulo, cmap=mapa, width=900, height=500, colorbar=True, tools=['hover'])\n",
    "    # Fix the colorbar range if provided\n",
    "    if min_range is not None and max_range is not None:\n",
    "        qm = eval(\"qm.redim.range(\" + valor + \"=(min_range, max_range))\")\n",
    "\n",
    "    # Since the DataArray we're using has 3 dimensions (time, xt_ocean, yt_ocean) and we have only\n",
    "    # used the last 2 dimensions, Holoviews automatically provides a \"widget\" to interact or manipulate\n",
    "    # all missing dimensions. In our case, it will generate a slider so we can move through time,\n",
    "    # updating the plot dynamically.\n",
    "    # We then create a panel, specifying that we want the widget on top & centred.\n",
    "    hv_panel = pn.panel(qm, widget_location='top', center=True)\n",
    "    #hv_panel.pprint()\n",
    "    # Based on the hv_panel structure printed on screen, we access the slider to change its width.\n",
    "    hv_panel[1][0][1][0].width = 500\n",
    "    # Show the panel on screen.\n",
    "    return hv_panel"
   ]
  },
  {
   "cell_type": "markdown",
   "metadata": {},
   "source": [
    "Let's check that the function behaves as expected:"
   ]
  },
  {
   "cell_type": "code",
   "execution_count": null,
   "metadata": {
    "scrolled": false
   },
   "outputs": [],
   "source": [
    "# MLD through time, with a fixed colorbar-range between 0 & 2000 m\n",
    "holo_plot(datos = dsm.mld, \n",
    "          valor = \"mld\",\n",
    "          mapa = cmo.deep_r,\n",
    "          titulo = \"MLD through time\",\n",
    "          min_range = 0, \n",
    "          max_range = 2000)"
   ]
  },
  {
   "cell_type": "markdown",
   "metadata": {},
   "source": [
    "Now that the holoviews function is set, we can just change the function call to inspect other variables. For example, to take a look at sea-level height:"
   ]
  },
  {
   "cell_type": "code",
   "execution_count": null,
   "metadata": {},
   "outputs": [],
   "source": [
    "holo_plot(datos = dsm.sea_level, \n",
    "          valor = \"sea_level\",\n",
    "          mapa = cmo.deep_r,\n",
    "          titulo = \"SSH through time\")"
   ]
  },
  {
   "cell_type": "markdown",
   "metadata": {},
   "source": [
    "# 3. WHY BOTHER?"
   ]
  },
  {
   "cell_type": "markdown",
   "metadata": {},
   "source": [
    "If you're wondering why bother with any of this when **ncview** can already do all this, its power lies in that **we can manipulate the data before it's displayed**, any way we want. For example: since we have monthly data over 5 years, we can average all the data per month of the year to smooth out inter-year variability. As ever, Holoviews will realize that the 'time' dimension is not being used to plot the data, and will provide a widget to interact with it:"
   ]
  },
  {
   "cell_type": "code",
   "execution_count": null,
   "metadata": {},
   "outputs": [],
   "source": [
    "# Monthly-averaged Mixed-Layer Depth\n",
    "holo_plot(datos = dsm.mld.groupby('time.month').mean('time'), \n",
    "          valor = \"mld\",\n",
    "          mapa = cmo.deep_r,\n",
    "          titulo = \"Monthly-averaged MLD\")"
   ]
  },
  {
   "cell_type": "markdown",
   "metadata": {},
   "source": [
    "We could also take a look at the data grouping by season. In this case, Holoviews will change the widget provided to select one of the seasons."
   ]
  },
  {
   "cell_type": "code",
   "execution_count": null,
   "metadata": {
    "scrolled": false
   },
   "outputs": [],
   "source": [
    "holo_plot(datos = dsm.mld.groupby('time.season').mean('time'), \n",
    "          valor = \"mld\",\n",
    "          mapa = cmo.deep_r,\n",
    "          titulo = \"Seasonally-averaged MLD\")"
   ]
  },
  {
   "cell_type": "markdown",
   "metadata": {},
   "source": [
    "# 4. CONCLUSION"
   ]
  },
  {
   "cell_type": "markdown",
   "metadata": {},
   "source": [
    "Anybody can now copy-paste the imports, the **holo_plot** function definition from section 2, and be ready to interactively explore their data!\n",
    "\n",
    "For example: the temperature data is actually 4-dimensional, with lon, lat, time **& depth**. Do we need to change anything in our code to explore this additional 4th dimension? No. Holoviews will realize that there are 2 dimensions that are not being used to plot the data (time & depth), and will thus provide 2 widgets to interact with them any way we want:"
   ]
  },
  {
   "cell_type": "code",
   "execution_count": null,
   "metadata": {},
   "outputs": [],
   "source": [
    "holo_plot(datos = dso.temp, \n",
    "          valor = \"temp\",\n",
    "          mapa = cmo.thermal,\n",
    "          titulo = \"Temperature through time & depth\")"
   ]
  },
  {
   "cell_type": "markdown",
   "metadata": {},
   "source": [
    "**Tip**: If you're in Chrome, when you click on the widget and the slider turns blue, you can use the keyboard arrows to move left & right for easier exploration!\n",
    "\n",
    "And one final thing: not everything in this life is a QuadMesh. We can use these same principles to plot other things. For example: Let's say we want to look at the time evolution of temperatures at different depths. In our example, we only have data for 5 years, but the same code will work if you open multiple .nc files together to get a longer time period."
   ]
  },
  {
   "cell_type": "code",
   "execution_count": null,
   "metadata": {},
   "outputs": [],
   "source": [
    "hv.extension('bokeh')\n",
    "\n",
    "# Since temperature data is 4-dimensional, we average temperatures over lons & lats,\n",
    "# plot the time dimension, and interact with the depth dimension.\n",
    "exp_data = (dso.temp.mean(['yt_ocean', 'xt_ocean'])) - 273.15\n",
    "\n",
    "# Same procedure as before, we just create a Curve instead of a QuadMesh\n",
    "hv_ds = hv.Dataset(exp_data)\n",
    "wi = hv_ds.to(hv.Curve, kdims=['time'], vdims=['temp'], label=\"Temperature\", dynamic=True)\n",
    "# We specify that the axes on the frame should adapt to the current data being displayed.\n",
    "# If the axes didn't move and our first plot was showing temperatures ranging from, say,\n",
    "# 10 to 15 degrees, by the time we got to the bottom of the ocean and temperatures were \n",
    "# around 0 degrees, we wouldn't be able to see anything on the plot. (Try it!)\n",
    "wi.opts(framewise=True)\n",
    "wi.opts(width=600, height=600, \n",
    "        padding=(0, 0.05), # Specifiy that we want some space (0.05) between the min value, \n",
    "                           # and the horizontal axis, so they don't touch\n",
    "        fontsize={'labels':12, 'yticks':12, 'title':12})\n",
    "\n",
    "# Centre the widget on top of the plot\n",
    "hv_panel = pn.panel(wi, center=True, widget_location='top')\n",
    "# Make the widget wider, for more precise control\n",
    "hv_panel[1][0][1][0].width = 500\n",
    "# Show the result\n",
    "hv_panel"
   ]
  },
  {
   "cell_type": "markdown",
   "metadata": {},
   "source": [
    "Y eso es todo por hoy ^_^ If you're hungry for more, check out the Intermediate level, where we'll take control of which widgets are displayed, and how our plots react to them!"
   ]
  }
 ],
 "metadata": {
  "hide_input": false,
  "kernelspec": {
   "display_name": "Python 3",
   "language": "python",
   "name": "python3"
  },
  "language_info": {
   "codemirror_mode": {
    "name": "ipython",
    "version": 3
   },
   "file_extension": ".py",
   "mimetype": "text/x-python",
   "name": "python",
   "nbconvert_exporter": "python",
   "pygments_lexer": "ipython3",
   "version": "3.7.4"
  },
  "varInspector": {
   "cols": {
    "lenName": 16,
    "lenType": 16,
    "lenVar": 40
   },
   "kernels_config": {
    "python": {
     "delete_cmd_postfix": "",
     "delete_cmd_prefix": "del ",
     "library": "var_list.py",
     "varRefreshCmd": "print(var_dic_list())"
    },
    "r": {
     "delete_cmd_postfix": ") ",
     "delete_cmd_prefix": "rm(",
     "library": "var_list.r",
     "varRefreshCmd": "cat(var_dic_list()) "
    }
   },
   "position": {
    "height": "736.8px",
    "left": "952.6px",
    "right": "20px",
    "top": "45px",
    "width": "547.8px"
   },
   "types_to_exclude": [
    "module",
    "function",
    "builtin_function_or_method",
    "instance",
    "_Feature"
   ],
   "window_display": false
  }
 },
 "nbformat": 4,
 "nbformat_minor": 2
}
